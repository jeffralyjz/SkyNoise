{
 "cells": [
  {
   "cell_type": "code",
   "execution_count": 281,
   "metadata": {
    "collapsed": false
   },
   "outputs": [],
   "source": [
    "import numpy as np\n",
    "import matplotlib.pyplot as plt\n",
    "%matplotlib inline\n"
   ]
  },
  {
   "cell_type": "code",
   "execution_count": 282,
   "metadata": {
    "collapsed": true
   },
   "outputs": [],
   "source": [
    "# %load conv.py\n",
    "import numpy as np\n",
    "\n",
    "def corr(f,g):\n",
    "    #shift index of f and g\n",
    "#     fsh = np.fft.fftshift(f)\n",
    "#     gsh = np.fft.fftshift(g)\n",
    "    \n",
    "    #fourier transform the shifted functions\n",
    "    f_fft = np.fft.fft(f)\n",
    "    g_fft = np.fft.fft(g)\n",
    "\n",
    "    #convolve the above\n",
    "    fcg = np.fft.ifft(f_fft*g_fft.conj())\n",
    "\n",
    "    return fcg\n"
   ]
  },
  {
   "cell_type": "code",
   "execution_count": 283,
   "metadata": {
    "collapsed": false
   },
   "outputs": [
    {
     "name": "stdout",
     "output_type": "stream",
     "text": [
      "[1 2 3 4 5]\n"
     ]
    }
   ],
   "source": [
    "a = np.array(range(5))+1\n",
    "print a[0:]"
   ]
  },
  {
   "cell_type": "code",
   "execution_count": 284,
   "metadata": {
    "collapsed": false
   },
   "outputs": [
    {
     "name": "stdout",
     "output_type": "stream",
     "text": [
      "[]\n"
     ]
    }
   ],
   "source": [
    "print a[:0]"
   ]
  },
  {
   "cell_type": "code",
   "execution_count": 285,
   "metadata": {
    "collapsed": false
   },
   "outputs": [
    {
     "name": "stdout",
     "output_type": "stream",
     "text": [
      "[ 97.  36.  38.]\n"
     ]
    }
   ],
   "source": [
    "b = np.ceil(np.random.rand(3)*100)\n",
    "print b"
   ]
  },
  {
   "cell_type": "code",
   "execution_count": 286,
   "metadata": {
    "collapsed": false
   },
   "outputs": [
    {
     "name": "stdout",
     "output_type": "stream",
     "text": [
      "[ 97.  36.  38.   1.   2.]\n"
     ]
    }
   ],
   "source": [
    "d = np.concatenate((b, a[:-3]), axis=0)\n",
    "print d"
   ]
  },
  {
   "cell_type": "code",
   "execution_count": 287,
   "metadata": {
    "collapsed": false
   },
   "outputs": [
    {
     "name": "stdout",
     "output_type": "stream",
     "text": [
      "576\n"
     ]
    }
   ],
   "source": [
    "print 25**2-7**2"
   ]
  },
  {
   "cell_type": "code",
   "execution_count": 288,
   "metadata": {
    "collapsed": false
   },
   "outputs": [
    {
     "data": {
      "text/plain": [
       "24.0"
      ]
     },
     "execution_count": 288,
     "metadata": {},
     "output_type": "execute_result"
    }
   ],
   "source": [
    "576**.5\n"
   ]
  },
  {
   "cell_type": "code",
   "execution_count": 289,
   "metadata": {
    "collapsed": false
   },
   "outputs": [
    {
     "name": "stdout",
     "output_type": "stream",
     "text": [
      "[1 2 3]\n"
     ]
    }
   ],
   "source": [
    "print a[:3]"
   ]
  },
  {
   "cell_type": "code",
   "execution_count": 290,
   "metadata": {
    "collapsed": false
   },
   "outputs": [
    {
     "name": "stdout",
     "output_type": "stream",
     "text": [
      "[ 3.+0.j -1.+0.j]\n"
     ]
    }
   ],
   "source": [
    "a_fft = np.fft.fft(a[:2])\n",
    "print a_fft"
   ]
  },
  {
   "cell_type": "code",
   "execution_count": 291,
   "metadata": {
    "collapsed": false
   },
   "outputs": [],
   "source": [
    "# %load tophat.py\n",
    "import numpy as np \n",
    "\n",
    "#Builds a tophat function\n",
    "#t_coords must be an array\n",
    "def tophat(t_coords, width, phi):\n",
    "    out = t_coords.copy()\n",
    "    for i, elem in enumerate(t_coords - phi):\n",
    "        if abs(elem) > width:\n",
    "            out[i]=0\n",
    "        else:\n",
    "            out[i]=1\n",
    "    return out\n"
   ]
  },
  {
   "cell_type": "code",
   "execution_count": null,
   "metadata": {
    "collapsed": false
   },
   "outputs": [],
   "source": []
  },
  {
   "cell_type": "code",
   "execution_count": null,
   "metadata": {
    "collapsed": false
   },
   "outputs": [],
   "source": []
  },
  {
   "cell_type": "code",
   "execution_count": null,
   "metadata": {
    "collapsed": false
   },
   "outputs": [],
   "source": []
  },
  {
   "cell_type": "code",
   "execution_count": 292,
   "metadata": {
    "collapsed": false
   },
   "outputs": [],
   "source": [
    "# np.source(np.fft.fft)"
   ]
  },
  {
   "cell_type": "code",
   "execution_count": 293,
   "metadata": {
    "collapsed": false
   },
   "outputs": [],
   "source": [
    "# help(np.fft.fftfreq)"
   ]
  },
  {
   "cell_type": "code",
   "execution_count": 294,
   "metadata": {
    "collapsed": false
   },
   "outputs": [
    {
     "name": "stdout",
     "output_type": "stream",
     "text": [
      "[0, 1, 2, 3, 4, 5, 6, 7, 8, 9] [ 55. +0.00000000e+00j  -5. +1.53884177e+01j  -5. +6.88190960e+00j\n",
      "  -5. +3.63271264e+00j  -5. +1.62459848e+00j  -5. +4.44089210e-16j\n",
      "  -5. -1.62459848e+00j  -5. -3.63271264e+00j  -5. -6.88190960e+00j\n",
      "  -5. -1.53884177e+01j]\n"
     ]
    }
   ],
   "source": [
    "new = np.array(range(10))+1\n",
    "newfft = np.fft.fft(new)\n",
    "\n",
    "\n",
    "print range(newfft.shape[0]) , newfft"
   ]
  },
  {
   "cell_type": "code",
   "execution_count": 295,
   "metadata": {
    "collapsed": true
   },
   "outputs": [],
   "source": [
    "# print t_coords\n",
    "t_coords = np.linspace(-2,2,1000)\n",
    "t_ = tophat(t_coords, 1,0 )"
   ]
  },
  {
   "cell_type": "code",
   "execution_count": 296,
   "metadata": {
    "collapsed": false
   },
   "outputs": [
    {
     "data": {
      "text/plain": [
       "<matplotlib.text.Text at 0x7fdfa38b1890>"
      ]
     },
     "execution_count": 296,
     "metadata": {},
     "output_type": "execute_result"
    },
    {
     "data": {
      "image/png": "[encoded data removed]",
      "text/plain": [
       "<matplotlib.figure.Figure at 0x7fdfa2ad9f50>"
      ]
     },
     "metadata": {},
     "output_type": "display_data"
    },
    {
     "data": {
      "image/png": "[encoded data removed]",
      "text/plain": [
       "<matplotlib.figure.Figure at 0x7fdfa3289890>"
      ]
     },
     "metadata": {},
     "output_type": "display_data"
    },
    {
     "data": {
      "image/png": "[encoded data removed]",
      "text/plain": [
       "<matplotlib.figure.Figure at 0x7fdfa31d3150>"
      ]
     },
     "metadata": {},
     "output_type": "display_data"
    },
    {
     "data": {
      "image/png": "[encoded data removed]",
      "text/plain": [
       "<matplotlib.figure.Figure at 0x7fdfa3fff910>"
      ]
     },
     "metadata": {},
     "output_type": "display_data"
    }
   ],
   "source": [
    "# fig, (ax1)= plt.subplots(1, figsize=(15,6))\n",
    "# ax1.plot(range(new.shape[0]), new)\n",
    "# \n",
    "# fig, (ax1)= plt.subplots(1, figsize=(15,6))\n",
    "# ax1.plot(range(newfft.shape[0]),newfft)\n",
    "\n",
    "# fig, (ax1)= plt.subplots(1, figsize=(15,6))\n",
    "# ax1.plot(range(new.shape[0]), np.abs(newfft))\n",
    "\n",
    "fig, (ax1)= plt.subplots(1, figsize=(15,3))\n",
    "ax1.plot(range(t_.shape[0]), t_);ax1.set_title('original tophat function')\n",
    "\n",
    "fig, (ax1)= plt.subplots(1, figsize=(15,3))\n",
    "ax1.plot(range(t_.shape[0]), np.fft.fft(t_)); ax1.set_title('FT of above')\n",
    "\n",
    "fig, (ax1)= plt.subplots(1, figsize=(15,3))\n",
    "ax1.plot(range(t_.shape[0]), np.fft.fft(np.fft.fftshift(t_))); ax1.set_title('shifted original and FT')\n",
    "\n",
    "shftsht_ = np.fft.fftshift(np.fft.fft(np.fft.fftshift(t_)))\n",
    "\n",
    "fig, (ax1)= plt.subplots(1, figsize=(15,3))\n",
    "ax1.plot( shftsht_ ); ax1.set_title('shifted above')\n",
    "\n"
   ]
  },
  {
   "cell_type": "code",
   "execution_count": 297,
   "metadata": {
    "collapsed": false,
    "scrolled": false
   },
   "outputs": [
    {
     "data": {
      "text/plain": [
       "[<matplotlib.lines.Line2D at 0x7fdfa36fefd0>]"
      ]
     },
     "execution_count": 297,
     "metadata": {},
     "output_type": "execute_result"
    },
    {
     "data": {
      "image/png": "[encoded data removed]",
      "text/plain": [
       "<matplotlib.figure.Figure at 0x7fdfa2f64790>"
      ]
     },
     "metadata": {},
     "output_type": "display_data"
    }
   ],
   "source": [
    "plt.plot(np.fft.fft(np.fft.fftshift(t_))-np.fft.fft(t_))"
   ]
  },
  {
   "cell_type": "code",
   "execution_count": 302,
   "metadata": {
    "collapsed": false
   },
   "outputs": [
    {
     "name": "stdout",
     "output_type": "stream",
     "text": [
      "[ 1  4 10 20 25 24 16] [ 26.  28.  26.  20.]\n"
     ]
    }
   ],
   "source": [
    "a3= np.array(range(4))+1\n",
    "conva3 = np.convolve(a3,a3, 'full')\n",
    "myconva3 = np.abs(conv(a3,a3))\n",
    "\n",
    "print conva3, myconva3"
   ]
  },
  {
   "cell_type": "code",
   "execution_count": 299,
   "metadata": {
    "collapsed": false
   },
   "outputs": [
    {
     "name": "stdout",
     "output_type": "stream",
     "text": [
      "Help on function convolve in module numpy.core.numeric:\n",
      "\n",
      "convolve(a, v, mode='full')\n",
      "    Returns the discrete, linear convolution of two one-dimensional sequences.\n",
      "    \n",
      "    The convolution operator is often seen in signal processing, where it\n",
      "    models the effect of a linear time-invariant system on a signal [1]_.  In\n",
      "    probability theory, the sum of two independent random variables is\n",
      "    distributed according to the convolution of their individual\n",
      "    distributions.\n",
      "    \n",
      "    If `v` is longer than `a`, the arrays are swapped before computation.\n",
      "    \n",
      "    Parameters\n",
      "    ----------\n",
      "    a : (N,) array_like\n",
      "        First one-dimensional input array.\n",
      "    v : (M,) array_like\n",
      "        Second one-dimensional input array.\n",
      "    mode : {'full', 'valid', 'same'}, optional\n",
      "        'full':\n",
      "          By default, mode is 'full'.  This returns the convolution\n",
      "          at each point of overlap, with an output shape of (N+M-1,). At\n",
      "          the end-points of the convolution, the signals do not overlap\n",
      "          completely, and boundary effects may be seen.\n",
      "    \n",
      "        'same':\n",
      "          Mode 'same' returns output of length ``max(M, N)``.  Boundary\n",
      "          effects are still visible.\n",
      "    \n",
      "        'valid':\n",
      "          Mode 'valid' returns output of length\n",
      "          ``max(M, N) - min(M, N) + 1``.  The convolution product is only given\n",
      "          for points where the signals overlap completely.  Values outside\n",
      "          the signal boundary have no effect.\n",
      "    \n",
      "    Returns\n",
      "    -------\n",
      "    out : ndarray\n",
      "        Discrete, linear convolution of `a` and `v`.\n",
      "    \n",
      "    See Also\n",
      "    --------\n",
      "    scipy.signal.fftconvolve : Convolve two arrays using the Fast Fourier\n",
      "                               Transform.\n",
      "    scipy.linalg.toeplitz : Used to construct the convolution operator.\n",
      "    polymul : Polynomial multiplication. Same output as convolve, but also\n",
      "              accepts poly1d objects as input.\n",
      "    \n",
      "    Notes\n",
      "    -----\n",
      "    The discrete convolution operation is defined as\n",
      "    \n",
      "    .. math:: (a * v)[n] = \\sum_{m = -\\infty}^{\\infty} a[m] v[n - m]\n",
      "    \n",
      "    It can be shown that a convolution :math:`x(t) * y(t)` in time/space\n",
      "    is equivalent to the multiplication :math:`X(f) Y(f)` in the Fourier\n",
      "    domain, after appropriate padding (padding is necessary to prevent\n",
      "    circular convolution).  Since multiplication is more efficient (faster)\n",
      "    than convolution, the function `scipy.signal.fftconvolve` exploits the\n",
      "    FFT to calculate the convolution of large data-sets.\n",
      "    \n",
      "    References\n",
      "    ----------\n",
      "    .. [1] Wikipedia, \"Convolution\", http://en.wikipedia.org/wiki/Convolution.\n",
      "    \n",
      "    Examples\n",
      "    --------\n",
      "    Note how the convolution operator flips the second array\n",
      "    before \"sliding\" the two across one another:\n",
      "    \n",
      "    >>> np.convolve([1, 2, 3], [0, 1, 0.5])\n",
      "    array([ 0. ,  1. ,  2.5,  4. ,  1.5])\n",
      "    \n",
      "    Only return the middle values of the convolution.\n",
      "    Contains boundary effects, where zeros are taken\n",
      "    into account:\n",
      "    \n",
      "    >>> np.convolve([1,2,3],[0,1,0.5], 'same')\n",
      "    array([ 1. ,  2.5,  4. ])\n",
      "    \n",
      "    The two arrays are of the same length, so there\n",
      "    is only one position where they completely overlap:\n",
      "    \n",
      "    >>> np.convolve([1,2,3],[0,1,0.5], 'valid')\n",
      "    array([ 2.5])\n",
      "\n"
     ]
    }
   ],
   "source": [
    "help(np.convolve)"
   ]
  },
  {
   "cell_type": "code",
   "execution_count": 300,
   "metadata": {
    "collapsed": false
   },
   "outputs": [],
   "source": [
    "f = np.array(range(4))+1\n",
    "h = np.array([5,6,7,8])"
   ]
  },
  {
   "cell_type": "code",
   "execution_count": 301,
   "metadata": {
    "collapsed": false
   },
   "outputs": [
    {
     "name": "stdout",
     "output_type": "stream",
     "text": [
      "[ 10.+0.j  -2.+2.j  -2.+0.j  -2.-2.j] [ 26.+0.j  -2.+2.j  -2.+0.j  -2.-2.j] [ 26.-0.j  -2.-2.j  -2.-0.j  -2.+2.j]\n"
     ]
    }
   ],
   "source": [
    "f_fft = np.fft.fft(f)\n",
    "h_fft = np.fft.fft(h)\n",
    "h_fftc = h_fft.conj()\n",
    "print f_fft, h_fft, h_fftc"
   ]
  },
  {
   "cell_type": "code",
   "execution_count": 303,
   "metadata": {
    "collapsed": true
   },
   "outputs": [],
   "source": [
    "a = np.array([1,1,1,1,2])"
   ]
  },
  {
   "cell_type": "code",
   "execution_count": 305,
   "metadata": {
    "collapsed": false
   },
   "outputs": [
    {
     "name": "stdout",
     "output_type": "stream",
     "text": [
      "[1 2 3 4 7 6 5 4 4]\n"
     ]
    }
   ],
   "source": [
    "print np.convolve(a, a, 'full')"
   ]
  },
  {
   "cell_type": "code",
   "execution_count": null,
   "metadata": {
    "collapsed": true
   },
   "outputs": [],
   "source": []
  }
 ],
 "metadata": {
  "kernelspec": {
   "display_name": "Python 2",
   "language": "python",
   "name": "python2"
  },
  "language_info": {
   "codemirror_mode": {
    "name": "ipython",
    "version": 2
   },
   "file_extension": ".py",
   "mimetype": "text/x-python",
   "name": "python",
   "nbconvert_exporter": "python",
   "pygments_lexer": "ipython2",
   "version": "2.7.13"
  }
 },
 "nbformat": 4,
 "nbformat_minor": 2
}
