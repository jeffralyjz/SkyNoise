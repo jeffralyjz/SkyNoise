{
 "cells": [
  {
   "cell_type": "code",
   "execution_count": 194,
   "metadata": {
    "collapsed": true
   },
   "outputs": [],
   "source": [
    "# %load gen.py\n",
    "import numpy as np\n",
    "import scipy\n",
    "import aipy\n",
    "import linsolve\n",
    "import collections\n",
    "import Combinatorics\n"
   ]
  },
  {
   "cell_type": "code",
   "execution_count": 2,
   "metadata": {
    "collapsed": true
   },
   "outputs": [],
   "source": [
    "import numpy as np\n",
    "import scipy\n",
    "import aipy\n",
    "import linsolve\n",
    "import collections\n"
   ]
  },
  {
   "cell_type": "code",
   "execution_count": 4,
   "metadata": {
    "collapsed": true
   },
   "outputs": [],
   "source": [
    "# antdict = {}\n",
    "# antlist = {}\n",
    "# sigdict = {}\n",
    "# for i in range(antcount):\n",
    "#     key = 'ant'+str(i+1)\n",
    "#     antdict[key] = []\n",
    "#     for k in range(sigcount):\n",
    "#         antdict[key].append('sig' + str(i+1) + '_' + str(k+1))\n",
    "# print antdict"
   ]
  },
  {
   "cell_type": "code",
   "execution_count": 169,
   "metadata": {},
   "outputs": [
    {
     "name": "stdout",
     "output_type": "stream",
     "text": [
      "0\n"
     ]
    }
   ],
   "source": [
    "# def dmul(sigcount, dt=0, mode='wcon'):\n",
    "#     assert (a.shape[1]>0) #dmul only works for array of arrays\n",
    "#     assert mode in ('wcon' , 'rand' , 'wfft')\n",
    "antcount = 3 # Antenna Count\n",
    "sigcount = 2 # signal count \n",
    "datasize = 3 # data size of each signal\n",
    "coords = 3 # one-dim, two-dim , or three-dim\n",
    "signals = np.random.rand(sigcount, datasize) # Signal list\n",
    "minbase = np.array([np.random.randn(), 0, 0]) # One-dimensional antenna array \n",
    "clk_pr = 5 # ns\n",
    "siglocs = np.random.rand(sigcount, coords) #Signal locations\n",
    "delist = [] # Delay list\n",
    "gains = [] # Gain list\n",
    "print len(delist)"
   ]
  },
  {
   "cell_type": "code",
   "execution_count": 170,
   "metadata": {
    "collapsed": true
   },
   "outputs": [],
   "source": [
    "if len(delist)==0:\n",
    "    for i in range(sigcount):\n",
    "        # delay of each signal based on their location in the sky\n",
    "        delist.append(np.dot(minbase, siglocs[i]) / aipy.const.len_ns / clk_pr)"
   ]
  },
  {
   "cell_type": "code",
   "execution_count": 171,
   "metadata": {},
   "outputs": [
    {
     "name": "stdout",
     "output_type": "stream",
     "text": [
      "2\n",
      "[0.0004032586242996089, 0.0028903304959892262]\n",
      "3\n",
      "[0.721042051159196, 1.0123942945254187, 0.6914409948488732]\n"
     ]
    }
   ],
   "source": [
    "if len(gains)==0:\n",
    "    for i in range(antcount):\n",
    "        gains.append(np.random.uniform(.5,1.5))\n",
    "\n",
    "print len(delist)\n",
    "print delist\n",
    "print len(gains)\n",
    "print gains\n",
    "\n",
    "# np.put(delarray, [0], [0])\n",
    "# for i in range(len(delist)):\n",
    "#     print delist[i]==delarray[i]\n",
    "# print gainarray"
   ]
  },
  {
   "cell_type": "code",
   "execution_count": 178,
   "metadata": {},
   "outputs": [
    {
     "name": "stdout",
     "output_type": "stream",
     "text": [
      "[array([ 0.74791599,  0.38749347,  0.86959461]), array([ 0.74815105,  0.38743424,  0.86941879]), array([ 0.74838605,  0.3873752 ,  0.86924283]), array([ 0.62611602,  0.03902845,  0.49859851]), array([ 0.62771784,  0.03948051,  0.49654463]), array([ 0.62931087,  0.03994534,  0.49448677])] \n",
      "[[ 0.74791599  0.38749347  0.86959461]\n",
      " [ 0.74815105  0.38743424  0.86941879]\n",
      " [ 0.74838605  0.3873752   0.86924283]\n",
      " [ 0.62611602  0.03902845  0.49859851]\n",
      " [ 0.62771784  0.03948051  0.49654463]\n",
      " [ 0.62931087  0.03994534  0.49448677]]\n"
     ]
    }
   ],
   "source": [
    "f_fft=np.fft.fft(signals)\n",
    "nu = np.fft.fftfreq(datasize)\n",
    "delsig = []\n",
    "if len(delsig)==0:\n",
    "    for i in range(sigcount):\n",
    "        dt = delist[i]\n",
    "        for k in range(antcount):\n",
    "            phi = np.exp(-2j*np.pi*nu*dt*k)\n",
    "            fcvp = np.fft.ifft(phi*f_fft)\n",
    "            delsig.append(fcvp.real[i])\n",
    "            delsigarray = np.array(delsig)\n",
    "print delsig,'\\n', delsigarray"
   ]
  },
  {
   "cell_type": "code",
   "execution_count": 193,
   "metadata": {},
   "outputs": [
    {
     "name": "stdout",
     "output_type": "stream",
     "text": [
      "[array([ 0.99073486,  0.30754024,  0.98652478]), array([ 1.39292181,  0.43220605,  1.38289358]), array([ 0.95259612,  0.29546694,  0.94293855])]\n"
     ]
    }
   ],
   "source": [
    "antsig = []\n",
    "# print 'delsig\\n', delsig\n",
    "for i in range(antcount):\n",
    "#     print 'delsig \\n' ,np.sum(delsig[i::antcount], axis=0)\n",
    "#     print 'delsigarray\\n' ,np.sum(delsigarray[i::antcount], axis =0)\n",
    "    antsig.append(np.sum(delsigarray[i::antcount], axis =0))\n",
    "# print a,'\\n\\n', antsig\n",
    "# print gains\n",
    "# print a\n",
    "measig = []\n",
    "for i in range(antcount):\n",
    "    measig.append(gains[i]*antsig[i])\n",
    "print measig"
   ]
  },
  {
   "cell_type": "code",
   "execution_count": 192,
   "metadata": {},
   "outputs": [
    {
     "name": "stdout",
     "output_type": "stream",
     "text": [
      "[[ 2.28479988+0.j          0.34370236+0.58801786j  0.34370236-0.58801786j]\n",
      " [ 3.20802144+0.j          0.48537200+0.82331954j  0.48537200-0.82331954j]\n",
      " [ 2.19100162+0.j          0.33339338+0.56072686j  0.33339338-0.56072686j]]\n"
     ]
    }
   ],
   "source": [
    "f_fft = np.fft.fft(measig)\n",
    "\n",
    "print f_fft\n",
    "# print f_fft.shape\n",
    "# for i in range(antcount):\n",
    "#     if i+1< antcount:\n",
    "#         f_fft[i]*f_fft[i+1]"
   ]
  },
  {
   "cell_type": "code",
   "execution_count": 184,
   "metadata": {},
   "outputs": [
    {
     "name": "stdout",
     "output_type": "stream",
     "text": [
      "[0, 1, 0, 2, 1, 2]\n",
      "6\n"
     ]
    }
   ],
   "source": [
    "comb = list(m_way_unordered_combinations(antcount,[2]))\n",
    "# print len(comb)\n",
    "\n",
    "# print comb[2][0][1]\n",
    "# print comb\n",
    "comblist = []\n",
    "for i in range(len(comb)):\n",
    "    comblist.append(comb[i][0])\n",
    "pairs = []\n",
    "for i in range(len(comb)):\n",
    "    pairs.append(comb[i][0][0])\n",
    "    pairs.append(comb[i][0][1])\n",
    "    pairsarr = np.array(pairs)\n",
    "print pairs\n",
    "print pairsarr.size"
   ]
  },
  {
   "cell_type": "code",
   "execution_count": 187,
   "metadata": {},
   "outputs": [
    {
     "name": "stdout",
     "output_type": "stream",
     "text": [
      "[array([ 0.99073486,  0.30754024,  0.98652478]), array([ 1.39292181,  0.43220605,  1.38289358]), array([ 0.95259612,  0.29546694,  0.94293855])]\n",
      "[ 1.3800162   0.13292075  1.36425877]\n",
      "[ 0.94377019  0.09086797  0.93023224]\n",
      "[ 1.32689192  0.1277026   1.30398366]\n"
     ]
    }
   ],
   "source": [
    "print measig\n",
    "for i in range(pairsarr.size/2):\n",
    "    print measig[pairs[i*2]]*measig[pairs[2*i+1]]\n"
   ]
  },
  {
   "cell_type": "code",
   "execution_count": 62,
   "metadata": {
    "collapsed": true
   },
   "outputs": [],
   "source": [
    "delsigfft = np.fft.rfft(delsigarray)\n",
    "delsigconj = delsigfft.conj()\n",
    "\n",
    "# for i in range(sigcount*antcount):\n",
    "    "
   ]
  },
  {
   "cell_type": "code",
   "execution_count": 6,
   "metadata": {},
   "outputs": [
    {
     "name": "stdout",
     "output_type": "stream",
     "text": [
      "ant0\n"
     ]
    }
   ],
   "source": [
    "test1 = []\n",
    "\n",
    "for i in range(4):\n",
    "    test1.insert(i, 'ant' + str(i))\n",
    "    \n",
    "print test1[0]"
   ]
  },
  {
   "cell_type": "code",
   "execution_count": 7,
   "metadata": {
    "collapsed": true
   },
   "outputs": [],
   "source": [
    "test = {}\n",
    "antcount = 4\n",
    "sigcount = 2\n",
    "for i in range(antcount):\n",
    "    for k in range(sigcount):\n",
    "        test['ant'+str(i+1)+str(k)] = str(i) + str(k)"
   ]
  },
  {
   "cell_type": "code",
   "execution_count": 8,
   "metadata": {},
   "outputs": [
    {
     "name": "stdout",
     "output_type": "stream",
     "text": [
      "ant31 =====> 21\n",
      "ant30 =====> 20\n",
      "ant11 =====> 01\n",
      "ant10 =====> 00\n",
      "ant40 =====> 30\n",
      "ant41 =====> 31\n",
      "ant20 =====> 10\n",
      "ant21 =====> 11\n"
     ]
    }
   ],
   "source": [
    "for key,val, in test.items():\n",
    "    print key, '=====>', val"
   ]
  },
  {
   "cell_type": "code",
   "execution_count": 9,
   "metadata": {},
   "outputs": [
    {
     "name": "stdout",
     "output_type": "stream",
     "text": [
      "true\n",
      "false\n",
      "false\n"
     ]
    }
   ],
   "source": [
    "# print collections.OrderedDict(sorted(test.items()))\n",
    "# print test.keys()[0:3]\n",
    "l = ['12!', '!', '21']\n",
    "for i in range(len(l)):\n",
    "    if '2!' in l[i]:\n",
    "        print 'true'\n",
    "    \n",
    "    else:\n",
    "        print 'false'"
   ]
  },
  {
   "cell_type": "code",
   "execution_count": 10,
   "metadata": {},
   "outputs": [
    {
     "name": "stdout",
     "output_type": "stream",
     "text": [
      "1\n",
      "[array([0, 1, 2, 3, 4, 5, 6, 7, 8, 9]), 'stuff', 1]\n",
      "[(1, 2, 'xx'), (1, 'x'), 'string']\n",
      "[((1, 2, 'xx'), array([0, 1, 2, 3, 4, 5, 6, 7, 8, 9])), ((1, 'x'), 'stuff'), ('string', 1)]\n",
      "(1, 2, 'xx') =====> [0 1 2 3 4 5 6 7 8 9]\n",
      "(1, 'x') =====> stuff\n",
      "string =====> 1\n",
      "[('10', 5), ('12', 6), ('14', 7), ('16', 8), ('18', 9), ('0', 0), ('2', 1), ('4', 2), ('6', 3), ('8', 4)]\n"
     ]
    }
   ],
   "source": [
    "test = {}\n",
    "test[(1,2,'xx')] = np.arange(10)\n",
    "test[(1,'x')] = 'stuff'\n",
    "test['string'] = 1\n",
    "\n",
    "print test['string']\n",
    "print test.values()\n",
    "print test.keys()\n",
    "print test.items()\n",
    "for key,val, in test.items():\n",
    "    print key, '=====>', val\n",
    "\n",
    "test2 = {}\n",
    "for i in range(10):\n",
    "    test2[str(2*i)] = i\n",
    "\n",
    "print test2.items()"
   ]
  },
  {
   "cell_type": "code",
   "execution_count": null,
   "metadata": {
    "collapsed": true
   },
   "outputs": [],
   "source": []
  }
 ],
 "metadata": {
  "kernelspec": {
   "display_name": "Python 2",
   "language": "python",
   "name": "python2"
  },
  "language_info": {
   "codemirror_mode": {
    "name": "ipython",
    "version": 2
   },
   "file_extension": ".py",
   "mimetype": "text/x-python",
   "name": "python",
   "nbconvert_exporter": "python",
   "pygments_lexer": "ipython2",
   "version": "2.7.13"
  }
 },
 "nbformat": 4,
 "nbformat_minor": 2
}
