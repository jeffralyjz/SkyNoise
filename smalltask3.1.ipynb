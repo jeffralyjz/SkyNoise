{
 "cells": [
  {
   "cell_type": "code",
   "execution_count": 4,
   "metadata": {
    "collapsed": true
   },
   "outputs": [],
   "source": [
    "import matplotlib.pyplot as plt\n",
    "%matplotlib inline\n",
    "import aipy\n",
    "import scipy\n",
    "import linsolve as ls"
   ]
  },
  {
   "cell_type": "code",
   "execution_count": 5,
   "metadata": {
    "collapsed": true
   },
   "outputs": [],
   "source": [
    "# %load cvcr.py\n",
    "import numpy as np\n",
    "\n",
    "def cvcr(f,g, op='timecv'):\n",
    "    \"\"\"Convolves or correlates to arrays.\n",
    "    op is operation type.\n",
    "    scv = Return array in original array units(convolution thm)\n",
    "    scr = return correlation between the two arrays by conjugating the second\n",
    "    hcv = similiar to scv but ignores inverse fourier transform and returns array in 'Hz'\n",
    "    hcr = similiar to scr but ignores the inverse fourier transform\"\"\"\n",
    "    \n",
    "    assert (op in ('timecv','timecr','freqcv','freqcr'))\n",
    "    #fourier transform functions\n",
    "    f_fft = np.fft.rfft(f)\n",
    "    g_fft = np.fft.rfft(g)\n",
    "    fg = f_fft*g_fft\n",
    "    fgc = f_fft*g_fft.conj()\n",
    "    if op=='timecv':\n",
    "        fcvg = np.fft.irfft(fg)\n",
    "        return fcvg\n",
    "    elif op=='timecr':\n",
    "        fcrg = np.fft.irfft(fgc)\n",
    "        return fcrg\n",
    "    elif op=='freqcv':\n",
    "        return fg\n",
    "    elif op=='freqcr':\n",
    "        return fgc\n",
    "\n"
   ]
  },
  {
   "cell_type": "code",
   "execution_count": 12,
   "metadata": {
    "collapsed": true
   },
   "outputs": [],
   "source": [
    "# %load delay.py\n",
    "import numpy as np\n",
    "\n",
    "def delay(array, dt, mode='wcon'):\n",
    "    '''Returns a shifted or wrapped array based on mode \n",
    "    Example:\n",
    "\n",
    "    Shifts and wraps (Shifts only integer type delays)\n",
    "    >>>delay([1,2,3,4,5], 3)\n",
    "    array([3,4,5,1,2])\n",
    "\n",
    "    Shifts and adds guassian noise \n",
    "    >>>delay([1,2,3,4,5], 3, 'ncon')\n",
    "    array([randint, randint, randint, 1, 2])\n",
    "\n",
    "    'wfft' mode will shift and wrap an array via convolution theorem\n",
    "    This mode can handle float type delays \n",
    "    '''\n",
    "    assert (mode in ('wcon' , 'ncon', 'wfft')) #select mode from list\n",
    "    assert (0 <= np.abs(dt) < array.size) #delay out of possible range\n",
    "    \n",
    "    if mode =='wcon':\n",
    "        assert(type(dt) in (int, long))#To do float type delays use wfft\n",
    "        d_array = np.concatenate((array[dt-array.size:],array[:dt]))\n",
    "        return d_array\n",
    "    elif mode=='ncon':\n",
    "        assert(type(dt) in (int, long))#To do float type delays use wfft\n",
    "        rand = np.random.rand(dt)\n",
    "        d_array = np.concatenate((rand, array[:-rand.size]), axis=0)\n",
    "        return d_array\n",
    "    elif mode=='wfft': # TODO Improve Tolerance\n",
    "        f_fft=np.fft.fft(array)\n",
    "        #returns cycles per second if sample spacing of f is in seconds\n",
    "        nu = np.fft.fftfreq(array.size)\n",
    "#         print ' nu is \\n' , nu\n",
    "        #Phase shift(kronecker delta)\n",
    "        phi = np.exp(-2j * np.pi *nu * dt)\n",
    "#         print phi\n",
    "        fcvp = np.fft.ifft(phi * f_fft)\n",
    "        d_array = fcvp.astype(array.dtype)\n",
    "        return d_array\n",
    "    \n",
    "def mult(signals, elem, tau='n'):\n",
    "    '''This function serves to create multiple arrays that \n",
    "    are delayed by some random amount.\n",
    "    signals: Number of desired signal arrays\n",
    "    elem: number of elements in signal array\n",
    "    ld: lowest delay\n",
    "    hd: highest delay\n",
    "    '''\n",
    "    assert tau in ('n' , 'rand', 'choose')\n",
    "    n = np.random.randn(signals, elem)\n",
    "    if tau == 'n':\n",
    "        return n\n",
    "    if tau == 'rand':\n",
    "        ld = input('Enter minimum delay: ')\n",
    "        hd = input('Enter max delay: ')\n",
    "        for i in range(signals):\n",
    "            r = np.random.randint(ld, hd)\n",
    "            n[i]= delay(n[i], r, 'wfft')\n",
    "        return n\n",
    "    if tau =='choose':\n",
    "        for i in range(signals):\n",
    "            print('Delay array ' , i+1 , ' by: ')\n",
    "            r = input()\n",
    "            n[i]= delay(n[i], r, 'wfft')\n",
    "        return n\n",
    "\n",
    "def dmul(a, dt=0, mode='wcon'):\n",
    "    \n",
    "    assert (a.shape[1]>0) #dmul only works for array of arrays\n",
    "    assert mode in ('wcon' , 'rand' , 'wfft')\n",
    "    for i in range(a.shape[0]):\n",
    "        if mode =='wfft':\n",
    "            f_fft=np.fft.fft(a)\n",
    "            nu = np.fft.fftfreq(a[i].size)\n",
    "            phi = np.exp(-2j*np.pi*nu*dt)\n",
    "            fcvp = np.fft.ifft(phi*f_fft)\n",
    "            d_a = fcvp.real\n",
    "    return d_a"
   ]
  },
  {
   "cell_type": "code",
   "execution_count": 205,
   "metadata": {},
   "outputs": [],
   "source": [
    "# %load gen.py\n",
    "import numpy as np\n",
    "import scipy\n",
    "import aipy\n",
    "import linsolve as ls\n",
    "import collections\n",
    "import Combinatorics\n",
    "\n",
    "def gen(antcount, sigcount, datasize, bins, samples, clk_pr=5, dim = 3):\n",
    "    \"\"\"ant = number of antennas\n",
    "    src = number of sources\n",
    "    \"\"\"\n",
    "    signals = np.random.randn(sigcount, datasize) # true signals\n",
    "    minbase = np.array([np.random.rand() * 1e4, 0, 0]) # minimum baseline in one dim (cm)\n",
    "    siglocs = np.random.rand(sigcount, dim) # signal locations\n",
    "    Siglocs = []\n",
    "    for i in range(sigcount):\n",
    "        sign1 = (-1) ** np.random.randint(-1,1)\n",
    "        sign2 = (-1) ** np.random.randint(-1,1)\n",
    "        Siglocs.append(siglocs[i] * np.array([sign1, 0, 1])) # last sign is pos (above the horizon)\n",
    "    siglocs = np.array(Siglocs) # TODO this was a quick fix\n",
    "    delist = [] # delays of each signal based on siglocs\n",
    "    gains = [] # gain of each antenna\n",
    "    for i in range(sigcount):\n",
    "        delist.append(np.dot(minbase, siglocs[i]) / aipy.const.len_ns / clk_pr) \n",
    "    for i in range(antcount):\n",
    "        gains.append(np.random.uniform(.5,1.5))\n",
    "    f_fft=np.fft.fft(signals) # fourier transform of signals\n",
    "    nu = np.fft.fftfreq(datasize) # cycles per second\n",
    "    delsig = [] # signals with delay corresponding to antenna position\n",
    "    for i in range(sigcount):\n",
    "        dt = delist[i] # extracting dt for each signal\n",
    "        for k in range(antcount):\n",
    "            phi = np.exp(-2j * np.pi * nu * dt * k)\n",
    "            fcvp = np.fft.ifft(phi * f_fft)\n",
    "            delsig.append(fcvp.real[i])\n",
    "    delarr= np.array(delsig)\n",
    "    measig = [] # antennas' measured data \n",
    "    avg = []\n",
    "    for i in range(antcount):\n",
    "        measig.append(gains[i] * np.sum(delsig[i::antcount], axis = 0))\n",
    "    msig = np.array(measig)\n",
    "    new = []\n",
    "    for i in range(antcount):\n",
    "        new.append(np.reshape(msig[i], (bins, samples)))\n",
    "    fftmeasig = np.fft.rfft(new) # fourier transform of all the measured signal arrays\n",
    "    mvis=[]\n",
    "    for i in range(antcount):\n",
    "        for k in range(antcount):\n",
    "            if i<k:\n",
    "                mvis.append(fftmeasig[i] * fftmeasig[k].conj())\n",
    "    Mvis = np.array(mvis)\n",
    "    finvis = []\n",
    "    for i in range(Mvis.shape[0]):\n",
    "        finvis.append(np.average(Mvis[i], axis=0))\n",
    "    return np.array(finvis)\n"
   ]
  },
  {
   "cell_type": "code",
   "execution_count": 206,
   "metadata": {},
   "outputs": [],
   "source": [
    "vis = gen(4, 2, bins = 1000, samples = 1024, datasize = 1000*1024)"
   ]
  },
  {
   "cell_type": "code",
   "execution_count": 91,
   "metadata": {
    "collapsed": true
   },
   "outputs": [],
   "source": [
    "signal1 = np.random.randn(1000*1024)\n",
    "signal2 = np.random.randn(1000*1024)"
   ]
  },
  {
   "cell_type": "code",
   "execution_count": 109,
   "metadata": {},
   "outputs": [
    {
     "name": "stdout",
     "output_type": "stream",
     "text": [
      "[ 0.70697966  0.2997485   0.27534813  1.57871244 -0.02322386 -0.28852315\n",
      "  1.41966273 -1.4817162  -0.75534057]\n",
      "[-0.1687926  -0.4839578   1.62577897 -0.55202336 -0.49229432 -1.03317703\n",
      " -0.80220403  0.03356425 -0.24336299 -0.47081658]\n"
     ]
    }
   ],
   "source": [
    "# print vis[1][:9]\n",
    "# print signal2[:10]"
   ]
  },
  {
   "cell_type": "code",
   "execution_count": 92,
   "metadata": {},
   "outputs": [],
   "source": [
    "bl1 = np.array([30e2,0,0])\n",
    "s1 = np.array([np.sqrt(2)/2, 0 , np.sqrt(2)/2])\n",
    "clk_pr = 5 # ns\n",
    "tj1 = np.dot(bl1, s1) / aipy.const.len_ns / clk_pr # Delay in samples"
   ]
  },
  {
   "cell_type": "code",
   "execution_count": 178,
   "metadata": {},
   "outputs": [
    {
     "name": "stdout",
     "output_type": "stream",
     "text": [
      "[-10.049564620136042, 11.31691888161836]\n",
      "14.1519260205 -17.3324988139\n"
     ]
    }
   ],
   "source": [
    "print vis\n",
    "print tj1 , tj2\n",
    "# print s1, s2"
   ]
  },
  {
   "cell_type": "code",
   "execution_count": 93,
   "metadata": {
    "collapsed": true
   },
   "outputs": [],
   "source": [
    "s2 = np.array([-np.sqrt(3)/2, 0, .5])\n",
    "tj2 = np.dot(bl1, s2) / aipy.const.len_ns / clk_pr # Delay in samples "
   ]
  },
  {
   "cell_type": "code",
   "execution_count": 183,
   "metadata": {},
   "outputs": [
    {
     "name": "stderr",
     "output_type": "stream",
     "text": [
      "/Users/jeffreysalazar/anaconda2/lib/python2.7/site-packages/ipykernel_launcher.py:40: ComplexWarning: Casting complex values to real discards the imaginary part\n"
     ]
    }
   ],
   "source": [
    "anti_1 = delay(signal1, 0, 'wfft')\n",
    "antj_1 = delay(signal1, tj1, 'wfft')\n",
    "antk_1 = delay(signal1, 2*tj1, 'wfft')\n",
    "antl_1 = delay(signal1, 3*tj1, 'wfft')\n",
    "\n",
    "anti_2 = delay(signal2, 0,'wfft')\n",
    "antj_2 = delay(signal2, tj2, 'wfft')\n",
    "antk_2 = delay(signal2, 2*tj2, 'wfft')\n",
    "antl_2 = delay(signal2, 3*tj2, 'wfft')"
   ]
  },
  {
   "cell_type": "code",
   "execution_count": 184,
   "metadata": {
    "collapsed": true
   },
   "outputs": [],
   "source": [
    "# axij.plot(ij, c='b', label = 'aicraj')\n",
    "# axij.plot(ij_, c='g')\n",
    "# axij.plot(jk, c='r', label = 'ajcrak')\n",
    "# axij.plot(jk_, c='y')axij.plot(ij, c='b', label = 'aicraj')\n",
    "# axij.plot(ij_, c='g')\n",
    "# axij.plot(jk, c='r', label = 'ajcrak')\n",
    "# axij.plot(jk_, c='y')\n",
    "s1st=np.random.randint(1,10)\n",
    "s2st=np.random.randint(1,10)\n",
    "\n",
    "gi=np.random.uniform(.5,1.5)\n",
    "gj=np.random.uniform(.5,1.5)\n",
    "gk=np.random.uniform(.5,1.5)\n",
    "gl=np.random.uniform(.5,1.5)"
   ]
  },
  {
   "cell_type": "code",
   "execution_count": 96,
   "metadata": {
    "collapsed": true
   },
   "outputs": [],
   "source": [
    "# print gi\n",
    "# print gj\n",
    "# print gk\n",
    "# print gl"
   ]
  },
  {
   "cell_type": "code",
   "execution_count": 185,
   "metadata": {},
   "outputs": [
    {
     "name": "stdout",
     "output_type": "stream",
     "text": [
      "(1024000,)\n"
     ]
    }
   ],
   "source": [
    "gi_ = .75\n",
    "gj_ = 1\n",
    "gk_ = 1\n",
    "gl_ = 1\n",
    "\n",
    "# Add gain as a function of freq\n",
    "\n",
    "anti_ = gi_*(s1st*anti_1+s2st*anti_2)\n",
    "antj_ = gj_*(s1st*antj_1+s2st*antj_2)\n",
    "antk_ = gk_*(s1st*antk_1+s2st*antk_2)\n",
    "antl_ = gl_*(s1st*antl_1+s2st*antl_2)\n",
    "\n",
    "anti = gi*(s1st*anti_1+s2st*anti_2)\n",
    "antj = gj*(s1st*antj_1+s2st*antj_2)\n",
    "antk = gk*(s1st*antk_1+s2st*antk_2)\n",
    "antl = gl*(s1st*antl_1+s2st*antl_2)\n",
    "print anti.shape"
   ]
  },
  {
   "cell_type": "code",
   "execution_count": 186,
   "metadata": {},
   "outputs": [
    {
     "name": "stdout",
     "output_type": "stream",
     "text": [
      "[ 2.75393143  2.67997307  2.43951416 -0.986957   -0.67380028  1.90534217\n",
      "  2.34568712  0.83071446  1.03161514]\n",
      "[ -7.37476275   1.19013677   9.99985418   1.7957432   17.89172031\n",
      "  -2.7648778   -9.54217487  -7.77813816  12.51484122]\n"
     ]
    }
   ],
   "source": [
    "print vis[0][:9]\n",
    "print anti[:9]/gi"
   ]
  },
  {
   "cell_type": "code",
   "execution_count": 98,
   "metadata": {},
   "outputs": [
    {
     "name": "stdout",
     "output_type": "stream",
     "text": [
      "(1000, 1024)\n"
     ]
    }
   ],
   "source": [
    "for a in (anti, antj , antk, antl, anti_, antj_, antk_, antl_):\n",
    "    a.shape = (-1,1024)\n",
    "\n",
    "print anti.shape"
   ]
  },
  {
   "cell_type": "code",
   "execution_count": 99,
   "metadata": {},
   "outputs": [],
   "source": [
    "op='freqcr'\n",
    "ijcor = cvcr(anti, antj, op)\n",
    "jkcor = cvcr(antj, antk, op)\n",
    "klcor = cvcr(antk, antl, op)\n",
    "ikcor = cvcr(anti, antk, op)\n",
    "jlcor = cvcr(antj, antl, op)\n",
    "ilcor = cvcr(anti, antl, op)\n",
    "ikcor = cvcr(anti, antk, op)\n",
    "# print ijcor.shape\n",
    "\n",
    "ijcor_ = cvcr(anti_, antj_, op)\n",
    "jkcor_ = cvcr(antj_, antk_, op)\n",
    "klcor_ = cvcr(antk_, antl_, op)\n",
    "ikcor_ = cvcr(anti_, antk_, op)\n",
    "jlcor_ = cvcr(antj_, antl_, op)\n",
    "ilcor_ = cvcr(anti_, antl_, op)\n",
    "ikcor_ = cvcr(anti_, antk_, op)"
   ]
  },
  {
   "cell_type": "code",
   "execution_count": 100,
   "metadata": {
    "scrolled": true
   },
   "outputs": [],
   "source": [
    "# print ijcor[0]\n",
    "# print '-----------------------'\n",
    "# print ijcor[1]"
   ]
  },
  {
   "cell_type": "code",
   "execution_count": 101,
   "metadata": {},
   "outputs": [],
   "source": [
    "ijvis = np.average(ijcor, axis=0)\n",
    "jkvis = np.average(jkcor, axis=0)\n",
    "klvis = np.average(klcor, axis=0)\n",
    "ikvis = np.average(ikcor, axis=0)\n",
    "jlvis = np.average(jlcor, axis=0)\n",
    "ilvis = np.average(ilcor, axis=0)\n",
    "ikvis = np.average(ikcor, axis=0)\n",
    "# print ijvis.shape\n",
    "ijvis_ = np.average(ijcor_, axis=0)\n",
    "jkvis_ = np.average(jkcor_, axis=0)\n",
    "klvis_ = np.average(klcor_, axis=0)\n",
    "ikvis_ = np.average(ikcor_, axis=0)\n",
    "jlvis_ = np.average(jlcor_, axis=0)\n",
    "ilvis_ = np.average(ilcor_, axis=0)\n",
    "ikvis_ = np.average(ikcor_, axis=0)"
   ]
  },
  {
   "cell_type": "code",
   "execution_count": 102,
   "metadata": {},
   "outputs": [],
   "source": [
    "# print ijvis"
   ]
  },
  {
   "cell_type": "code",
   "execution_count": 103,
   "metadata": {
    "collapsed": true
   },
   "outputs": [],
   "source": [
    "test = {}\n",
    "test[(1,2,'xx')] = np.arange(10)\n",
    "test[(1,'x')] = 'stuff'\n",
    "test['string'] = 1"
   ]
  },
  {
   "cell_type": "code",
   "execution_count": 65,
   "metadata": {},
   "outputs": [
    {
     "name": "stdout",
     "output_type": "stream",
     "text": [
      "1\n",
      "[array([0, 1, 2, 3, 4, 5, 6, 7, 8, 9]), 'stuff', 1]\n",
      "[(1, 2, 'xx'), (1, 'x'), 'string']\n",
      "[((1, 2, 'xx'), array([0, 1, 2, 3, 4, 5, 6, 7, 8, 9])), ((1, 'x'), 'stuff'), ('string', 1)]\n",
      "(1, 2, 'xx') =====> [0 1 2 3 4 5 6 7 8 9]\n",
      "(1, 'x') =====> stuff\n",
      "string =====> 1\n",
      "[('10', 5), ('12', 6), ('14', 7), ('16', 8), ('18', 9), ('0', 0), ('2', 1), ('4', 2), ('6', 3), ('8', 4)]\n"
     ]
    }
   ],
   "source": [
    "print test['string']\n",
    "print test.values()\n",
    "print test.keys()\n",
    "print test.items()\n",
    "for key,val, in test.items():\n",
    "    print key, '=====>', val\n",
    "\n",
    "test2 = {}\n",
    "for i in range(10):\n",
    "    test2[str(2*i)] = i\n",
    "\n",
    "print test2.items()"
   ]
  },
  {
   "cell_type": "code",
   "execution_count": 66,
   "metadata": {
    "collapsed": true
   },
   "outputs": [],
   "source": [
    "# for i in range(10):\n",
    "#     for k in range (5):\n",
    "#         print('ant',end='')\n",
    "#         print(i, end='')\n",
    "#         print('_',end='')\n",
    "#         print(k)"
   ]
  },
  {
   "cell_type": "code",
   "execution_count": 67,
   "metadata": {},
   "outputs": [
    {
     "name": "stdout",
     "output_type": "stream",
     "text": [
      "0 a\n",
      "1 b\n",
      "2 c\n"
     ]
    }
   ],
   "source": [
    "for (n,letter) in enumerate(['a','b','c']):\n",
    "    print n, letter"
   ]
  },
  {
   "cell_type": "code",
   "execution_count": 104,
   "metadata": {
    "scrolled": true
   },
   "outputs": [],
   "source": [
    "data = {}\n",
    "data['etai + etaj + lnv1'] = np.log(np.abs(ijvis_))\n",
    "data['etaj + etak + lnv1'] = np.log(np.abs(jkvis_))\n",
    "data['etak + etal + lnv1'] = np.log(np.abs(klvis_))\n",
    "data['etai + etak + lnv2'] = np.log(np.abs(ikvis_))\n",
    "data['etaj + etal + lnv2'] = np.log(np.abs(jlvis_))\n",
    "data['etai + etak + lnv3'] = np.log(np.abs(ikvis_))\n",
    "data['etai + etaj + etak + etal'] = np.log(np.ones(513))\n",
    "\n",
    "sys = ls.LinearSolver(data)\n",
    "sol = sys.solve()\n",
    "\n",
    "# names = ['id','data']\n",
    "# formats = ['f8','f8']\n",
    "# dtype = dict(names = names, formats=formats)\n",
    "# array = np.array(sol.items(), dtype=dtype)\n",
    "\n",
    "for key in sol:\n",
    "    sol[key] = np.exp(sol[key])\n"
   ]
  },
  {
   "cell_type": "code",
   "execution_count": 231,
   "metadata": {},
   "outputs": [
    {
     "data": {
      "text/plain": [
       "[<matplotlib.lines.Line2D at 0x116fc6210>]"
      ]
     },
     "execution_count": 231,
     "metadata": {},
     "output_type": "execute_result"
    },
    {
     "data": {
      "image/png": "[encoded data removed]",
      "text/plain": [
       "<matplotlib.figure.Figure at 0x116e38b50>"
      ]
     },
     "metadata": {},
     "output_type": "display_data"
    }
   ],
   "source": [
    "lw =1.5\n",
    "fig, (axij) = plt.subplots(1, figsize=(15,4.5))\n",
    "# axij.plot(ijvis_, c='b', label = 'aicraj')\n",
    "# axij.plot(vis[0], c='g')\n",
    "# axij.plot(vis[1], c='b')\n",
    "# axij.plot(vis[2], c='r')\n",
    "# axij.plot(vis[3], c='g')\n",
    "# axij.plot(vis[4], c='g')\n",
    "# axij.plot(vis[5], c='g')\n",
    "# axij.plot(ijvis_/(sol['etai'] * sol['etaj']), c='b', label = 'aicraj')\n",
    "# axij.plot(ijvis - ijvis_/(sol['etai'] * sol['etaj']), c='r', label = 'ajcrak')\n",
    "# axij.plot(jkvis_, c='y')\n",
    "# axij.plot(klvis, c='m', label = 'akcral')\n",
    "# axij.plot(klvis_, c='black')\n",
    "\n",
    "# axij.set_xlim(50,100)"
   ]
  },
  {
   "cell_type": "code",
   "execution_count": null,
   "metadata": {
    "collapsed": true
   },
   "outputs": [],
   "source": [
    "axij.plot(ijvis, c='b', label = 'aicraj')\n",
    "axij.plot(ijvis_, c='g')\n",
    "axij.plot(jkvis, c='r', label = 'ajcrak')\n",
    "axij.plot(jkvis_, c='y')\n",
    "axij.plot(klvis, c='m', label = 'akcral')\n",
    "axij.plot(klvis_, c='black')\n",
    "\n",
    "axij.plot(ikvis, c='b', label = 'aicrak')\n",
    "axij.plot(ikvis_, c='g')\n",
    "axij.plot(jlvis, c='r', label = 'ajcral')\n",
    "axij.plot(jlvis_, c='y')\n",
    "\n",
    "axij.plot(ilvis, c='b', label = 'aicral')\n",
    "axij.plot(ilvis_, c='g')"
   ]
  },
  {
   "cell_type": "code",
   "execution_count": null,
   "metadata": {
    "collapsed": true
   },
   "outputs": [],
   "source": [
    "ijlog= np.log(ijvis)\n",
    "jklog= np.log(jkvis)\n",
    "kllog= np.log(klvis)\n",
    "ijlog_= np.log(ijvis_)\n",
    "jklog_= np.log(jkvis_)\n",
    "kllog_= np.log(klvis_)+np.log(.97)\n",
    "\n",
    "lw =1.5\n",
    "fig, (axij) = plt.subplots(1, figsize=(15,4.5))\n",
    "# axij.plot(ijlog, c='b', label = 'aicraj')\n",
    "# axij.plot(ijlog_, c='g')\n",
    "# axij.plot(jklog, c='r', label = 'ajcrak')\n",
    "# axij.plot(jklog_, c='y')\n",
    "axij.plot(kllog, c='m', label = 'akcral')\n",
    "axij.plot(kllog_, c='black')\n"
   ]
  },
  {
   "cell_type": "code",
   "execution_count": null,
   "metadata": {
    "collapsed": true
   },
   "outputs": [],
   "source": []
  },
  {
   "cell_type": "code",
   "execution_count": null,
   "metadata": {
    "collapsed": true,
    "scrolled": true
   },
   "outputs": [],
   "source": [
    "ij_jk = ij/jk\n",
    "jk_kl = jk/kl\n",
    "ij_kl = ij/kl\n",
    "\n",
    "ij[2], jk[2],ij_jk[2]\n",
    "\n",
    "plt.plot(ij_jk)\n",
    "plt.plot(jk_kl)\n",
    "plt.plot(ij_kl)"
   ]
  },
  {
   "cell_type": "code",
   "execution_count": null,
   "metadata": {
    "collapsed": true,
    "scrolled": true
   },
   "outputs": [],
   "source": [
    "lvism = np.log(vism)"
   ]
  },
  {
   "cell_type": "code",
   "execution_count": null,
   "metadata": {
    "collapsed": true
   },
   "outputs": [],
   "source": [
    "np.angle((np.sqrt(2) / 2 ) + (np.sqrt(2)/2)*1j)"
   ]
  },
  {
   "cell_type": "code",
   "execution_count": null,
   "metadata": {
    "collapsed": true
   },
   "outputs": [],
   "source": []
  },
  {
   "cell_type": "code",
   "execution_count": null,
   "metadata": {
    "collapsed": true
   },
   "outputs": [],
   "source": []
  },
  {
   "cell_type": "code",
   "execution_count": null,
   "metadata": {
    "collapsed": true
   },
   "outputs": [],
   "source": []
  }
 ],
 "metadata": {
  "kernelspec": {
   "display_name": "Python 2",
   "language": "python",
   "name": "python2"
  },
  "language_info": {
   "codemirror_mode": {
    "name": "ipython",
    "version": 2
   },
   "file_extension": ".py",
   "mimetype": "text/x-python",
   "name": "python",
   "nbconvert_exporter": "python",
   "pygments_lexer": "ipython2",
   "version": "2.7.13"
  }
 },
 "nbformat": 4,
 "nbformat_minor": 2
}
