{
 "cells": [
  {
   "cell_type": "code",
   "execution_count": 90,
   "metadata": {
    "collapsed": true
   },
   "outputs": [],
   "source": [
    "import matplotlib.pyplot as plt\n",
    "%matplotlib inline\n",
    "import aipy"
   ]
  },
  {
   "cell_type": "code",
   "execution_count": 91,
   "metadata": {
    "collapsed": true
   },
   "outputs": [],
   "source": [
    "# %load cvcr.py\n",
    "import numpy as np\n",
    "\n",
    "def cvcr(f,g, op='timecv'):\n",
    "    \"\"\"Convolves or correlates to arrays.\n",
    "    op is operation type.\n",
    "    scv = Return array in original array units(convolution thm)\n",
    "    scr = return correlation between the two arrays by conjugating the second\n",
    "    hcv = similiar to scv but ignores inverse fourier transform and returns array in 'Hz'\n",
    "    hcr = similiar to scr but ignores the inverse fourier transform\"\"\"\n",
    "    \n",
    "    assert (op in ('timecv','timecr','freqcv','freqcr'))\n",
    "    #fourier transform functions\n",
    "    f_fft = np.fft.rfft(f)\n",
    "    g_fft = np.fft.rfft(g)\n",
    "    fg = f_fft*g_fft\n",
    "    fgc = f_fft*g_fft.conj()\n",
    "    if op=='timecv':\n",
    "        fcvg = np.fft.irfft(fg)\n",
    "        return fcvg\n",
    "    elif op=='timecr':\n",
    "        fcrg = np.fft.irfft(fgc)\n",
    "        return fcrg\n",
    "    elif op=='freqcv':\n",
    "        return fg\n",
    "    elif op=='freqcr':\n",
    "        return fgc\n",
    "\n"
   ]
  },
  {
   "cell_type": "code",
   "execution_count": 92,
   "metadata": {
    "collapsed": false
   },
   "outputs": [],
   "source": [
    "# %load delay.py\n",
    "import numpy as np\n",
    "\n",
    "def delay(a, dt, mode='wcon'):\n",
    "    '''Returns a shifted or wrapped array based on mode \n",
    "    Example:\n",
    "\n",
    "    Shifts and wraps (Shifts only integer type delays)\n",
    "    >>>delay([1,2,3,4,5], 3)\n",
    "    array([3,4,5,1,2])\n",
    "\n",
    "    Shifts and adds guassian noise \n",
    "    >>>delay([1,2,3,4,5], 3, 'ncon')\n",
    "    array([randint, randint, randint, 1, 2])\n",
    "\n",
    "    'wfft' mode will shift and wrap an array via convolution theorem\n",
    "    This mode can handle float type delays \n",
    "    '''\n",
    "    assert (mode in ('wcon' , 'ncon', 'wfft')) #select mode from list\n",
    "    assert (0 <= np.abs(dt) < a.size) #delay out of possible range\n",
    "    \n",
    "    if mode =='wcon':\n",
    "        assert(type(dt) in (int, long))#To do float type delays use wfft\n",
    "        d_a = np.concatenate((a[dt-a.size:],a[:dt]))\n",
    "        return d_a\n",
    "    elif mode=='ncon':\n",
    "        assert(type(dt) in (int, long))#To do float type delays use wfft\n",
    "        rand = np.random.rand(dt)\n",
    "        d_a = np.concatenate((rand, a[:-rand.size]), axis=0)\n",
    "        return d_a\n",
    "    elif mode=='wfft': # TODO Improve Tolerance\n",
    "        f_fft=np.fft.fft(a)\n",
    "        #returns cycles per second if sample spacing of f is in seconds\n",
    "        nu = np.fft.fftfreq(a.size)\n",
    "        #Phase shift(kronecker delta)\n",
    "        phi = np.exp(-2j * np.pi *nu * dt)\n",
    "        fcvp = np.fft.ifft(phi * f_fft)\n",
    "        d_a = fcvp.astype(a.dtype)\n",
    "        return d_a\n",
    "    \n",
    "def mult(signals, elem, tau='n'):\n",
    "    '''This function serves to create multiple arrays that \n",
    "    are delayed by some random amount.\n",
    "    signals: Number of desired signal arrays\n",
    "    elem: number of elements in signal array\n",
    "    ld: lowest delay\n",
    "    hd: highest delay\n",
    "    '''\n",
    "    assert tau in ('n' , 'rand', 'choose')\n",
    "    n = np.random.randn(signals, elem)\n",
    "    if tau == 'n':\n",
    "        return n\n",
    "    if tau == 'rand':\n",
    "        ld = input('Enter minimum delay: ')\n",
    "        hd = input('Enter max delay: ')\n",
    "        for i in range(signals):\n",
    "            r = np.random.randint(ld, hd)\n",
    "            n[i]= delay(n[i], r, 'wfft')\n",
    "        return n\n",
    "    if tau =='choose':\n",
    "        for i in range(signals):\n",
    "            print 'Delay array ' , i+1 , ' by: '\n",
    "            r = input()\n",
    "            n[i]= delay(n[i], r, 'wfft')\n",
    "        return n\n",
    "\n",
    "def dmul(a, dt=0, mode='wcon'):\n",
    "    assert (a.shape[1]>0) #dmul only works for array of arrays\n",
    "    assert mode in ('wcon' , 'rand' , 'wfft')\n",
    "    for i in range(a.shape[0]):\n",
    "        if mode =='wfft':\n",
    "            f_fft=np.fft.fft(a)\n",
    "            nu = np.fft.fftfreq(a[i].size)\n",
    "            phi = np.exp(-2j*np.pi*nu*dt)\n",
    "            fcvp = np.fft.ifft(phi*f_fft)\n",
    "            d_a = fcvp.real\n",
    "    return d_a"
   ]
  },
  {
   "cell_type": "code",
   "execution_count": null,
   "metadata": {
    "collapsed": false,
    "scrolled": false
   },
   "outputs": [],
   "source": []
  },
  {
   "cell_type": "code",
   "execution_count": 93,
   "metadata": {
    "collapsed": false
   },
   "outputs": [],
   "source": [
    "signal1 = np.random.randn(4000*1024)\n",
    "signal2 = np.random.randn(4000*1024)"
   ]
  },
  {
   "cell_type": "code",
   "execution_count": 94,
   "metadata": {
    "collapsed": false
   },
   "outputs": [],
   "source": [
    "bl1 = np.array([30e2,0,0])\n",
    "s1 = np.array([np.sqrt(2)/2, 0 , np.sqrt(2)/2])\n",
    "clk_pr = 5 # ns\n",
    "tj1 = np.dot(bl1, s1) / aipy.const.len_ns / clk_pr # Delay in samples"
   ]
  },
  {
   "cell_type": "code",
   "execution_count": 95,
   "metadata": {
    "collapsed": false
   },
   "outputs": [],
   "source": [
    "s2 = np.array([-np.sqrt(3)/2, 0, .5])\n",
    "tj2 = np.dot(bl1, s2) / aipy.const.len_ns / clk_pr # Delay in samples "
   ]
  },
  {
   "cell_type": "code",
   "execution_count": 96,
   "metadata": {
    "collapsed": false
   },
   "outputs": [
    {
     "name": "stderr",
     "output_type": "stream",
     "text": [
      "/home/champ2/anaconda2/lib/python2.7/site-packages/ipykernel/__main__.py:38: ComplexWarning: Casting complex values to real discards the imaginary part\n"
     ]
    }
   ],
   "source": [
    "anti_1 = delay(signal1, 0, 'wfft')\n",
    "antj_1 = delay(signal1, tj1, 'wfft')\n",
    "antk_1 = delay(signal1, 2*tj1, 'wfft')\n",
    "antl_1 = delay(signal1, 3*tj1, 'wfft')\n",
    "\n",
    "anti_2 = delay(signal2, 0,'wfft')\n",
    "antj_2 = delay(signal2, tj2, 'wfft')\n",
    "antk_2 = delay(signal2, 2*tj2, 'wfft')\n",
    "antl_2 = delay(signal2, 3*tj2, 'wfft')"
   ]
  },
  {
   "cell_type": "code",
   "execution_count": 97,
   "metadata": {
    "collapsed": true
   },
   "outputs": [],
   "source": [
    "axij.plot(ij, c='b', label = 'aicraj')\n",
    "# axij.plot(ij_, c='g')\n",
    "# axij.plot(jk, c='r', label = 'ajcrak')\n",
    "# axij.plot(jk_, c='y')axij.plot(ij, c='b', label = 'aicraj')\n",
    "# axij.plot(ij_, c='g')\n",
    "# axij.plot(jk, c='r', label = 'ajcrak')\n",
    "# axij.plot(jk_, c='y')s1st=np.random.randint(1,10)\n",
    "s2st=np.random.randint(1,10)\n",
    "\n",
    "gi=np.random.uniform(.5,1.5)\n",
    "gj=np.random.uniform(.5,1.5)\n",
    "gk=np.random.uniform(.5,1.5)\n",
    "gl=np.random.uniform(.5,1.5)"
   ]
  },
  {
   "cell_type": "code",
   "execution_count": 98,
   "metadata": {
    "collapsed": false
   },
   "outputs": [],
   "source": [
    "# print gi\n",
    "# print gj\n",
    "# print gk\n",
    "# print gl"
   ]
  },
  {
   "cell_type": "code",
   "execution_count": 99,
   "metadata": {
    "collapsed": false
   },
   "outputs": [],
   "source": [
    "gi_ = .8\n",
    "gj_ = 1\n",
    "gk_ = 1\n",
    "gl_ = 1\n",
    "\n",
    "anti_ = gi_*(s1st*anti_1+s2st*anti_2)\n",
    "antj_ = gj_*(s1st*antj_1+s2st*antj_2)\n",
    "antk_ = gk_*(s1st*antk_1+s2st*antk_2)\n",
    "antl_ = gl_*(s1st*antl_1+s2st*antl_2)\n",
    "\n",
    "anti = gi*(s1st*anti_1+s2st*anti_2)\n",
    "antj = gj*(s1st*antj_1+s2st*antj_2)\n",
    "antk = gk*(s1st*antk_1+s2st*antk_2)\n",
    "antl = gl*(s1st*antl_1+s2st*antl_2)"
   ]
  },
  {
   "cell_type": "code",
   "execution_count": 100,
   "metadata": {
    "collapsed": false
   },
   "outputs": [],
   "source": [
    "for a in (anti, antj , antk, antl, anti_, antj_, antk_, antl_):\n",
    "    a.shape = (-1,1024)"
   ]
  },
  {
   "cell_type": "code",
   "execution_count": 101,
   "metadata": {
    "collapsed": false
   },
   "outputs": [],
   "source": [
    "op='freqcr'\n",
    "ijcor = cvcr(anti, antj, op)\n",
    "jkcor = cvcr(antj, antk, op)\n",
    "klcor = cvcr(antk, antl, op)\n",
    "ikcor = cvcr(anti, antk, op)\n",
    "jlcor = cvcr(antj, antl, op)\n",
    "ilcor = cvcr(anti, antl, op)\n",
    "\n",
    "ijcor_ = cvcr(anti_, antj_, op)\n",
    "jkcor_ = cvcr(antj_, antk_, op)\n",
    "klcor_ = cvcr(antk_, antl_, op)\n",
    "ikcor_ = cvcr(anti_, antk_, op)\n",
    "jlcor_ = cvcr(antj_, antl_, op)\n",
    "ilcor_ = cvcr(anti_, antl_, op)"
   ]
  },
  {
   "cell_type": "code",
   "execution_count": 102,
   "metadata": {
    "collapsed": true
   },
   "outputs": [],
   "source": [
    "ij = np.average(ijcor, axis=0)\n",
    "jk = np.average(jkcor, axis=0)\n",
    "kl = np.average(klcor, axis=0)\n",
    "ik = np.average(ikcor, axis=0)\n",
    "jl = np.average(jlcor, axis=0)\n",
    "il = np.average(ilcor, axis=0)\n",
    "\n",
    "ij_ = np.average(ijcor_, axis=0)\n",
    "jk_ = np.average(jkcor_, axis=0)\n",
    "kl_ = np.average(klcor_, axis=0)\n",
    "ik_ = np.average(ikcor_, axis=0)\n",
    "jl_ = np.average(jlcor_, axis=0)\n",
    "il_ = np.average(ilcor_, axis=0)"
   ]
  },
  {
   "cell_type": "code",
   "execution_count": 118,
   "metadata": {
    "collapsed": false
   },
   "outputs": [
    {
     "name": "stdout",
     "output_type": "stream",
     "text": [
      "(1.57204581381+0.00557904407888j)\n"
     ]
    }
   ],
   "source": [
    "print np.exp(ij[2]/jk[2])*np.exp(-.69) #*np.exp(.5*ik[2]/jl[2]+.5*ij[2]/kl[2])"
   ]
  },
  {
   "cell_type": "code",
   "execution_count": 104,
   "metadata": {
    "collapsed": false
   },
   "outputs": [
    {
     "data": {
      "text/plain": [
       "[<matplotlib.lines.Line2D at 0x7fdde247bdd0>]"
      ]
     },
     "execution_count": 104,
     "metadata": {},
     "output_type": "execute_result"
    },
    {
     "data": {
      "image/png": "[encoded data removed]",
      "text/plain": [
       "<matplotlib.figure.Figure at 0x7fddd8cf4390>"
      ]
     },
     "metadata": {},
     "output_type": "display_data"
    }
   ],
   "source": [
    "lw =1.5\n",
    "fig, (axij) = plt.subplots(1, figsize=(15,4.5))\n",
    "# axij.plot(ij, c='b', label = 'aicraj')\n",
    "# axij.plot(ij_, c='g')\n",
    "# axij.plot(jk, c='r', label = 'ajcrak')\n",
    "# axij.plot(jk_, c='y')\n",
    "axij.plot(kl, c='m', label = 'akcral')\n",
    "axij.plot(kl_, c='black')\n",
    "\n",
    "# axij.set_xlim(50,100)"
   ]
  },
  {
   "cell_type": "code",
   "execution_count": null,
   "metadata": {
    "collapsed": true
   },
   "outputs": [],
   "source": []
  },
  {
   "cell_type": "code",
   "execution_count": 752,
   "metadata": {
    "collapsed": false
   },
   "outputs": [
    {
     "data": {
      "text/plain": [
       "[<matplotlib.lines.Line2D at 0x7febc7b4c710>]"
      ]
     },
     "execution_count": 752,
     "metadata": {},
     "output_type": "execute_result"
    }
   ],
   "source": [
    "axij.plot(ij, c='b', label = 'aicraj')\n",
    "axij.plot(ij_, c='g')\n",
    "axij.plot(jk, c='r', label = 'ajcrak')\n",
    "axij.plot(jk_, c='y')\n",
    "axij.plot(kl, c='m', label = 'akcral')\n",
    "axij.plot(kl_, c='black')\n",
    "\n",
    "axij.plot(ik, c='b', label = 'aicrak')\n",
    "axij.plot(ik_, c='g')\n",
    "axij.plot(jl, c='r', label = 'ajcral')\n",
    "axij.plot(jl_, c='y')\n",
    "\n",
    "axij.plot(il, c='b', label = 'aicral')\n",
    "axij.plot(il_, c='g')"
   ]
  },
  {
   "cell_type": "code",
   "execution_count": null,
   "metadata": {
    "collapsed": false
   },
   "outputs": [],
   "source": []
  },
  {
   "cell_type": "code",
   "execution_count": 28,
   "metadata": {
    "collapsed": false,
    "scrolled": true
   },
   "outputs": [
    {
     "data": {
      "text/plain": [
       "[<matplotlib.lines.Line2D at 0x7fddd96ac190>]"
      ]
     },
     "execution_count": 28,
     "metadata": {},
     "output_type": "execute_result"
    },
    {
     "data": {
      "image/png": "[encoded data removed]",
      "text/plain": [
       "<matplotlib.figure.Figure at 0x7fddd978a990>"
      ]
     },
     "metadata": {},
     "output_type": "display_data"
    }
   ],
   "source": [
    "ij_jk = ij/jk\n",
    "jk_kl = jk/kl\n",
    "ij_kl = ij/kl\n",
    "\n",
    "ij[2], jk[2],ij_jk[2]\n",
    "\n",
    "plt.plot(ij_jk)\n",
    "plt.plot(jk_kl)\n",
    "plt.plot(ij_kl)"
   ]
  },
  {
   "cell_type": "code",
   "execution_count": 755,
   "metadata": {
    "collapsed": false,
    "scrolled": true
   },
   "outputs": [],
   "source": [
    "lvism = np.log(vism)"
   ]
  },
  {
   "cell_type": "code",
   "execution_count": 756,
   "metadata": {
    "collapsed": false
   },
   "outputs": [
    {
     "data": {
      "text/plain": [
       "0.78539816339744828"
      ]
     },
     "execution_count": 756,
     "metadata": {},
     "output_type": "execute_result"
    }
   ],
   "source": [
    "np.angle((np.sqrt(2) / 2 ) + (np.sqrt(2)/2)*1j)"
   ]
  },
  {
   "cell_type": "code",
   "execution_count": null,
   "metadata": {
    "collapsed": false
   },
   "outputs": [],
   "source": []
  },
  {
   "cell_type": "code",
   "execution_count": null,
   "metadata": {
    "collapsed": false
   },
   "outputs": [],
   "source": []
  },
  {
   "cell_type": "code",
   "execution_count": null,
   "metadata": {
    "collapsed": true
   },
   "outputs": [],
   "source": []
  }
 ],
 "metadata": {
  "kernelspec": {
   "display_name": "Python 2",
   "language": "python",
   "name": "python2"
  },
  "language_info": {
   "codemirror_mode": {
    "name": "ipython",
    "version": 2
   },
   "file_extension": ".py",
   "mimetype": "text/x-python",
   "name": "python",
   "nbconvert_exporter": "python",
   "pygments_lexer": "ipython2",
   "version": "2.7.13"
  }
 },
 "nbformat": 4,
 "nbformat_minor": 2
}
